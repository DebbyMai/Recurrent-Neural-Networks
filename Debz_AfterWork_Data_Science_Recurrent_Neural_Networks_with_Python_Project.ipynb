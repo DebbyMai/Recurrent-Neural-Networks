{
  "nbformat": 4,
  "nbformat_minor": 0,
  "metadata": {
    "colab": {
      "name": "Debz_AfterWork Data Science: Recurrent Neural Networks with Python - Project",
      "provenance": [],
      "collapsed_sections": [
        "J4wfHZwQrs-t",
        "a9BPYqunry97",
        "7KMRBJ7zr9HD",
        "i5BnrlDxU5uG"
      ],
      "toc_visible": true
    },
    "kernelspec": {
      "name": "python3",
      "display_name": "Python 3"
    },
    "accelerator": "GPU"
  },
  "cells": [
    {
      "cell_type": "markdown",
      "metadata": {
        "id": "ymYoNMngEbN1"
      },
      "source": [
        "# <font color='#2F4F4F'>AfterWork Data Science: Recurrent Neural Networks with Python - Project</font>"
      ]
    },
    {
      "cell_type": "markdown",
      "metadata": {
        "id": "kLG2VTrnTvYL"
      },
      "source": [
        "## <font color='#2F4F4F'>Step 1. Business Understanding </font>"
      ]
    },
    {
      "cell_type": "markdown",
      "metadata": {
        "id": "XecOwPNorl2W"
      },
      "source": [
        "### a) Specifying the Research Question\n",
        "\n",
        "Build a recurrent neural networks model that will be used to predict Tesla stock prices in 2017 using data from 2012-2016"
      ]
    },
    {
      "cell_type": "markdown",
      "metadata": {
        "id": "J4wfHZwQrs-t"
      },
      "source": [
        "### b) Defining the Metric for Success\n",
        "\n",
        "Build a neural networks regression model with an RSME  less than 10% of the target mean."
      ]
    },
    {
      "cell_type": "markdown",
      "metadata": {
        "id": "a9BPYqunry97"
      },
      "source": [
        "### c) Understanding the Context \n",
        "\n",
        "Stockpy is an innovative fintech enabling financial prosperity for the entire population. It is a venture funded startup based in Palo Alto bringing world-class financial experiences to a continually growing customer base. As Stockpy enters an expansion phase for innovative fintech product offerings, it aims to enhance the enormous value in data processing and analysis for continuous growth and success.\n",
        "\n",
        "As a Finance Data Scientist for Stockpy, you provide leadership to turn cutting-edge technology into actionable insights; unlocking the power of data that provides value to business decisions and customer service enhancements."
      ]
    },
    {
      "cell_type": "markdown",
      "metadata": {
        "id": "7KMRBJ7zr9HD"
      },
      "source": [
        "### d) Recording the Experimental Design\n",
        "\n",
        "* Business Understanding\n",
        "* Data Exploration\n",
        "* Data Preparation\n",
        "* Data Modeling and Evaluation\n",
        "* Summary of Findings and Recommendation\n",
        "* Challenging the Solution\n"
      ]
    },
    {
      "cell_type": "markdown",
      "metadata": {
        "id": "n8tP5QFQEcy2"
      },
      "source": [
        "## <font color='#2F4F4F'>Step 2. Data Importation</font>"
      ]
    },
    {
      "cell_type": "code",
      "metadata": {
        "id": "QIjcefBSy7I_"
      },
      "source": [
        "# Importing standard libraries\n",
        "# ---\n",
        "# \n",
        "import pandas as pd               # library for data manipulation\n",
        "import numpy as np                # library for scientific computations\n",
        "import matplotlib.pyplot as plt   # library for data visualisation "
      ],
      "execution_count": 82,
      "outputs": []
    },
    {
      "cell_type": "code",
      "metadata": {
        "id": "BmLxWeu1DTP9",
        "colab": {
          "base_uri": "https://localhost:8080/"
        },
        "outputId": "19ce94bf-93ea-4937-aa4c-ec24dfce2ba0"
      },
      "source": [
        "# Importing our dataset\n",
        "# ---\n",
        "#\n",
        "train_df = pd.read_csv('https://bit.ly/38dSbSb')\n",
        "\n",
        "print(train_df.shape)\n"
      ],
      "execution_count": 83,
      "outputs": [
        {
          "output_type": "stream",
          "name": "stdout",
          "text": [
            "(1258, 7)\n"
          ]
        }
      ]
    },
    {
      "cell_type": "code",
      "source": [
        "train_df.tail()"
      ],
      "metadata": {
        "colab": {
          "base_uri": "https://localhost:8080/",
          "height": 206
        },
        "id": "8DffhogfMDzc",
        "outputId": "194370e6-f834-4d40-acb4-18de541bb8fe"
      },
      "execution_count": 84,
      "outputs": [
        {
          "output_type": "execute_result",
          "data": {
            "text/plain": [
              "            Date       Open       High        Low      Close  Adj Close  \\\n",
              "1253  2016-12-23  41.599998  42.689999  41.542000  42.667999  42.667999   \n",
              "1254  2016-12-27  42.976002  44.450001  42.883999  43.905998  43.905998   \n",
              "1255  2016-12-28  44.306000  44.759998  43.439999  43.948002  43.948002   \n",
              "1256  2016-12-29  43.712002  43.840000  42.824001  42.936001  42.936001   \n",
              "1257  2016-12-30  43.259998  43.500000  42.335999  42.737999  42.737999   \n",
              "\n",
              "        Volume  \n",
              "1253  23352500  \n",
              "1254  29578500  \n",
              "1255  18912500  \n",
              "1256  20225000  \n",
              "1257  23213000  "
            ],
            "text/html": [
              "\n",
              "  <div id=\"df-57ef592b-97bd-408c-bafb-55020e10ff62\">\n",
              "    <div class=\"colab-df-container\">\n",
              "      <div>\n",
              "<style scoped>\n",
              "    .dataframe tbody tr th:only-of-type {\n",
              "        vertical-align: middle;\n",
              "    }\n",
              "\n",
              "    .dataframe tbody tr th {\n",
              "        vertical-align: top;\n",
              "    }\n",
              "\n",
              "    .dataframe thead th {\n",
              "        text-align: right;\n",
              "    }\n",
              "</style>\n",
              "<table border=\"1\" class=\"dataframe\">\n",
              "  <thead>\n",
              "    <tr style=\"text-align: right;\">\n",
              "      <th></th>\n",
              "      <th>Date</th>\n",
              "      <th>Open</th>\n",
              "      <th>High</th>\n",
              "      <th>Low</th>\n",
              "      <th>Close</th>\n",
              "      <th>Adj Close</th>\n",
              "      <th>Volume</th>\n",
              "    </tr>\n",
              "  </thead>\n",
              "  <tbody>\n",
              "    <tr>\n",
              "      <th>1253</th>\n",
              "      <td>2016-12-23</td>\n",
              "      <td>41.599998</td>\n",
              "      <td>42.689999</td>\n",
              "      <td>41.542000</td>\n",
              "      <td>42.667999</td>\n",
              "      <td>42.667999</td>\n",
              "      <td>23352500</td>\n",
              "    </tr>\n",
              "    <tr>\n",
              "      <th>1254</th>\n",
              "      <td>2016-12-27</td>\n",
              "      <td>42.976002</td>\n",
              "      <td>44.450001</td>\n",
              "      <td>42.883999</td>\n",
              "      <td>43.905998</td>\n",
              "      <td>43.905998</td>\n",
              "      <td>29578500</td>\n",
              "    </tr>\n",
              "    <tr>\n",
              "      <th>1255</th>\n",
              "      <td>2016-12-28</td>\n",
              "      <td>44.306000</td>\n",
              "      <td>44.759998</td>\n",
              "      <td>43.439999</td>\n",
              "      <td>43.948002</td>\n",
              "      <td>43.948002</td>\n",
              "      <td>18912500</td>\n",
              "    </tr>\n",
              "    <tr>\n",
              "      <th>1256</th>\n",
              "      <td>2016-12-29</td>\n",
              "      <td>43.712002</td>\n",
              "      <td>43.840000</td>\n",
              "      <td>42.824001</td>\n",
              "      <td>42.936001</td>\n",
              "      <td>42.936001</td>\n",
              "      <td>20225000</td>\n",
              "    </tr>\n",
              "    <tr>\n",
              "      <th>1257</th>\n",
              "      <td>2016-12-30</td>\n",
              "      <td>43.259998</td>\n",
              "      <td>43.500000</td>\n",
              "      <td>42.335999</td>\n",
              "      <td>42.737999</td>\n",
              "      <td>42.737999</td>\n",
              "      <td>23213000</td>\n",
              "    </tr>\n",
              "  </tbody>\n",
              "</table>\n",
              "</div>\n",
              "      <button class=\"colab-df-convert\" onclick=\"convertToInteractive('df-57ef592b-97bd-408c-bafb-55020e10ff62')\"\n",
              "              title=\"Convert this dataframe to an interactive table.\"\n",
              "              style=\"display:none;\">\n",
              "        \n",
              "  <svg xmlns=\"http://www.w3.org/2000/svg\" height=\"24px\"viewBox=\"0 0 24 24\"\n",
              "       width=\"24px\">\n",
              "    <path d=\"M0 0h24v24H0V0z\" fill=\"none\"/>\n",
              "    <path d=\"M18.56 5.44l.94 2.06.94-2.06 2.06-.94-2.06-.94-.94-2.06-.94 2.06-2.06.94zm-11 1L8.5 8.5l.94-2.06 2.06-.94-2.06-.94L8.5 2.5l-.94 2.06-2.06.94zm10 10l.94 2.06.94-2.06 2.06-.94-2.06-.94-.94-2.06-.94 2.06-2.06.94z\"/><path d=\"M17.41 7.96l-1.37-1.37c-.4-.4-.92-.59-1.43-.59-.52 0-1.04.2-1.43.59L10.3 9.45l-7.72 7.72c-.78.78-.78 2.05 0 2.83L4 21.41c.39.39.9.59 1.41.59.51 0 1.02-.2 1.41-.59l7.78-7.78 2.81-2.81c.8-.78.8-2.07 0-2.86zM5.41 20L4 18.59l7.72-7.72 1.47 1.35L5.41 20z\"/>\n",
              "  </svg>\n",
              "      </button>\n",
              "      \n",
              "  <style>\n",
              "    .colab-df-container {\n",
              "      display:flex;\n",
              "      flex-wrap:wrap;\n",
              "      gap: 12px;\n",
              "    }\n",
              "\n",
              "    .colab-df-convert {\n",
              "      background-color: #E8F0FE;\n",
              "      border: none;\n",
              "      border-radius: 50%;\n",
              "      cursor: pointer;\n",
              "      display: none;\n",
              "      fill: #1967D2;\n",
              "      height: 32px;\n",
              "      padding: 0 0 0 0;\n",
              "      width: 32px;\n",
              "    }\n",
              "\n",
              "    .colab-df-convert:hover {\n",
              "      background-color: #E2EBFA;\n",
              "      box-shadow: 0px 1px 2px rgba(60, 64, 67, 0.3), 0px 1px 3px 1px rgba(60, 64, 67, 0.15);\n",
              "      fill: #174EA6;\n",
              "    }\n",
              "\n",
              "    [theme=dark] .colab-df-convert {\n",
              "      background-color: #3B4455;\n",
              "      fill: #D2E3FC;\n",
              "    }\n",
              "\n",
              "    [theme=dark] .colab-df-convert:hover {\n",
              "      background-color: #434B5C;\n",
              "      box-shadow: 0px 1px 3px 1px rgba(0, 0, 0, 0.15);\n",
              "      filter: drop-shadow(0px 1px 2px rgba(0, 0, 0, 0.3));\n",
              "      fill: #FFFFFF;\n",
              "    }\n",
              "  </style>\n",
              "\n",
              "      <script>\n",
              "        const buttonEl =\n",
              "          document.querySelector('#df-57ef592b-97bd-408c-bafb-55020e10ff62 button.colab-df-convert');\n",
              "        buttonEl.style.display =\n",
              "          google.colab.kernel.accessAllowed ? 'block' : 'none';\n",
              "\n",
              "        async function convertToInteractive(key) {\n",
              "          const element = document.querySelector('#df-57ef592b-97bd-408c-bafb-55020e10ff62');\n",
              "          const dataTable =\n",
              "            await google.colab.kernel.invokeFunction('convertToInteractive',\n",
              "                                                     [key], {});\n",
              "          if (!dataTable) return;\n",
              "\n",
              "          const docLinkHtml = 'Like what you see? Visit the ' +\n",
              "            '<a target=\"_blank\" href=https://colab.research.google.com/notebooks/data_table.ipynb>data table notebook</a>'\n",
              "            + ' to learn more about interactive tables.';\n",
              "          element.innerHTML = '';\n",
              "          dataTable['output_type'] = 'display_data';\n",
              "          await google.colab.output.renderOutput(dataTable, element);\n",
              "          const docLink = document.createElement('div');\n",
              "          docLink.innerHTML = docLinkHtml;\n",
              "          element.appendChild(docLink);\n",
              "        }\n",
              "      </script>\n",
              "    </div>\n",
              "  </div>\n",
              "  "
            ]
          },
          "metadata": {},
          "execution_count": 84
        }
      ]
    },
    {
      "cell_type": "code",
      "source": [
        "test_df.head()"
      ],
      "metadata": {
        "colab": {
          "base_uri": "https://localhost:8080/",
          "height": 206
        },
        "id": "JG3UoCkgMg2Z",
        "outputId": "27499251-c9a5-4689-a4db-4bfd47ab2715"
      },
      "execution_count": 85,
      "outputs": [
        {
          "output_type": "execute_result",
          "data": {
            "text/plain": [
              "         Date       Open       High        Low      Close  Adj Close  \\\n",
              "0  2020-01-06  88.094002  90.311996  88.000000  90.307999  90.307999   \n",
              "1  2020-01-07  92.279999  94.325996  90.671997  93.811996  93.811996   \n",
              "2  2020-01-08  94.739998  99.697998  93.646004  98.428001  98.428001   \n",
              "3  2020-01-09  99.419998  99.760002  94.573997  96.267998  96.267998   \n",
              "4  2020-01-10  96.358002  96.987999  94.739998  95.629997  95.629997   \n",
              "\n",
              "      Volume  \n",
              "0   50665000  \n",
              "1   89410500  \n",
              "2  155721500  \n",
              "3  142202000  \n",
              "4   64797500  "
            ],
            "text/html": [
              "\n",
              "  <div id=\"df-86e325d8-2f0c-4f66-a4af-c7a4cd5bbbd9\">\n",
              "    <div class=\"colab-df-container\">\n",
              "      <div>\n",
              "<style scoped>\n",
              "    .dataframe tbody tr th:only-of-type {\n",
              "        vertical-align: middle;\n",
              "    }\n",
              "\n",
              "    .dataframe tbody tr th {\n",
              "        vertical-align: top;\n",
              "    }\n",
              "\n",
              "    .dataframe thead th {\n",
              "        text-align: right;\n",
              "    }\n",
              "</style>\n",
              "<table border=\"1\" class=\"dataframe\">\n",
              "  <thead>\n",
              "    <tr style=\"text-align: right;\">\n",
              "      <th></th>\n",
              "      <th>Date</th>\n",
              "      <th>Open</th>\n",
              "      <th>High</th>\n",
              "      <th>Low</th>\n",
              "      <th>Close</th>\n",
              "      <th>Adj Close</th>\n",
              "      <th>Volume</th>\n",
              "    </tr>\n",
              "  </thead>\n",
              "  <tbody>\n",
              "    <tr>\n",
              "      <th>0</th>\n",
              "      <td>2020-01-06</td>\n",
              "      <td>88.094002</td>\n",
              "      <td>90.311996</td>\n",
              "      <td>88.000000</td>\n",
              "      <td>90.307999</td>\n",
              "      <td>90.307999</td>\n",
              "      <td>50665000</td>\n",
              "    </tr>\n",
              "    <tr>\n",
              "      <th>1</th>\n",
              "      <td>2020-01-07</td>\n",
              "      <td>92.279999</td>\n",
              "      <td>94.325996</td>\n",
              "      <td>90.671997</td>\n",
              "      <td>93.811996</td>\n",
              "      <td>93.811996</td>\n",
              "      <td>89410500</td>\n",
              "    </tr>\n",
              "    <tr>\n",
              "      <th>2</th>\n",
              "      <td>2020-01-08</td>\n",
              "      <td>94.739998</td>\n",
              "      <td>99.697998</td>\n",
              "      <td>93.646004</td>\n",
              "      <td>98.428001</td>\n",
              "      <td>98.428001</td>\n",
              "      <td>155721500</td>\n",
              "    </tr>\n",
              "    <tr>\n",
              "      <th>3</th>\n",
              "      <td>2020-01-09</td>\n",
              "      <td>99.419998</td>\n",
              "      <td>99.760002</td>\n",
              "      <td>94.573997</td>\n",
              "      <td>96.267998</td>\n",
              "      <td>96.267998</td>\n",
              "      <td>142202000</td>\n",
              "    </tr>\n",
              "    <tr>\n",
              "      <th>4</th>\n",
              "      <td>2020-01-10</td>\n",
              "      <td>96.358002</td>\n",
              "      <td>96.987999</td>\n",
              "      <td>94.739998</td>\n",
              "      <td>95.629997</td>\n",
              "      <td>95.629997</td>\n",
              "      <td>64797500</td>\n",
              "    </tr>\n",
              "  </tbody>\n",
              "</table>\n",
              "</div>\n",
              "      <button class=\"colab-df-convert\" onclick=\"convertToInteractive('df-86e325d8-2f0c-4f66-a4af-c7a4cd5bbbd9')\"\n",
              "              title=\"Convert this dataframe to an interactive table.\"\n",
              "              style=\"display:none;\">\n",
              "        \n",
              "  <svg xmlns=\"http://www.w3.org/2000/svg\" height=\"24px\"viewBox=\"0 0 24 24\"\n",
              "       width=\"24px\">\n",
              "    <path d=\"M0 0h24v24H0V0z\" fill=\"none\"/>\n",
              "    <path d=\"M18.56 5.44l.94 2.06.94-2.06 2.06-.94-2.06-.94-.94-2.06-.94 2.06-2.06.94zm-11 1L8.5 8.5l.94-2.06 2.06-.94-2.06-.94L8.5 2.5l-.94 2.06-2.06.94zm10 10l.94 2.06.94-2.06 2.06-.94-2.06-.94-.94-2.06-.94 2.06-2.06.94z\"/><path d=\"M17.41 7.96l-1.37-1.37c-.4-.4-.92-.59-1.43-.59-.52 0-1.04.2-1.43.59L10.3 9.45l-7.72 7.72c-.78.78-.78 2.05 0 2.83L4 21.41c.39.39.9.59 1.41.59.51 0 1.02-.2 1.41-.59l7.78-7.78 2.81-2.81c.8-.78.8-2.07 0-2.86zM5.41 20L4 18.59l7.72-7.72 1.47 1.35L5.41 20z\"/>\n",
              "  </svg>\n",
              "      </button>\n",
              "      \n",
              "  <style>\n",
              "    .colab-df-container {\n",
              "      display:flex;\n",
              "      flex-wrap:wrap;\n",
              "      gap: 12px;\n",
              "    }\n",
              "\n",
              "    .colab-df-convert {\n",
              "      background-color: #E8F0FE;\n",
              "      border: none;\n",
              "      border-radius: 50%;\n",
              "      cursor: pointer;\n",
              "      display: none;\n",
              "      fill: #1967D2;\n",
              "      height: 32px;\n",
              "      padding: 0 0 0 0;\n",
              "      width: 32px;\n",
              "    }\n",
              "\n",
              "    .colab-df-convert:hover {\n",
              "      background-color: #E2EBFA;\n",
              "      box-shadow: 0px 1px 2px rgba(60, 64, 67, 0.3), 0px 1px 3px 1px rgba(60, 64, 67, 0.15);\n",
              "      fill: #174EA6;\n",
              "    }\n",
              "\n",
              "    [theme=dark] .colab-df-convert {\n",
              "      background-color: #3B4455;\n",
              "      fill: #D2E3FC;\n",
              "    }\n",
              "\n",
              "    [theme=dark] .colab-df-convert:hover {\n",
              "      background-color: #434B5C;\n",
              "      box-shadow: 0px 1px 3px 1px rgba(0, 0, 0, 0.15);\n",
              "      filter: drop-shadow(0px 1px 2px rgba(0, 0, 0, 0.3));\n",
              "      fill: #FFFFFF;\n",
              "    }\n",
              "  </style>\n",
              "\n",
              "      <script>\n",
              "        const buttonEl =\n",
              "          document.querySelector('#df-86e325d8-2f0c-4f66-a4af-c7a4cd5bbbd9 button.colab-df-convert');\n",
              "        buttonEl.style.display =\n",
              "          google.colab.kernel.accessAllowed ? 'block' : 'none';\n",
              "\n",
              "        async function convertToInteractive(key) {\n",
              "          const element = document.querySelector('#df-86e325d8-2f0c-4f66-a4af-c7a4cd5bbbd9');\n",
              "          const dataTable =\n",
              "            await google.colab.kernel.invokeFunction('convertToInteractive',\n",
              "                                                     [key], {});\n",
              "          if (!dataTable) return;\n",
              "\n",
              "          const docLinkHtml = 'Like what you see? Visit the ' +\n",
              "            '<a target=\"_blank\" href=https://colab.research.google.com/notebooks/data_table.ipynb>data table notebook</a>'\n",
              "            + ' to learn more about interactive tables.';\n",
              "          element.innerHTML = '';\n",
              "          dataTable['output_type'] = 'display_data';\n",
              "          await google.colab.output.renderOutput(dataTable, element);\n",
              "          const docLink = document.createElement('div');\n",
              "          docLink.innerHTML = docLinkHtml;\n",
              "          element.appendChild(docLink);\n",
              "        }\n",
              "      </script>\n",
              "    </div>\n",
              "  </div>\n",
              "  "
            ]
          },
          "metadata": {},
          "execution_count": 85
        }
      ]
    },
    {
      "cell_type": "markdown",
      "metadata": {
        "id": "yPaOYgFMEemO"
      },
      "source": [
        "## <font color='#2F4F4F'>Step 3. Data Exploration</font>"
      ]
    },
    {
      "cell_type": "code",
      "metadata": {
        "id": "S2HpkzRPJGVn",
        "colab": {
          "base_uri": "https://localhost:8080/",
          "height": 206
        },
        "outputId": "280fcd42-405c-4075-88ac-2d59d57aa5e9"
      },
      "source": [
        "# Sample dataset\n",
        "# ---\n",
        "#\n",
        "train_df.sample(5)"
      ],
      "execution_count": 86,
      "outputs": [
        {
          "output_type": "execute_result",
          "data": {
            "text/plain": [
              "           Date       Open       High        Low      Close  Adj Close  \\\n",
              "976  2015-11-18  42.900002  44.276001  42.504002  44.214001  44.214001   \n",
              "852  2015-05-26  49.535999  50.400002  49.299999  49.492001  49.492001   \n",
              "181  2012-09-20   6.186000   6.300000   6.136000   6.180000   6.180000   \n",
              "392  2013-07-26  25.628000  26.136000  25.322001  25.878000  25.878000   \n",
              "192  2012-10-05   5.940000   5.962000   5.736000   5.778000   5.778000   \n",
              "\n",
              "       Volume  \n",
              "976  14059500  \n",
              "852  17493500  \n",
              "181   4562000  \n",
              "392  48165500  \n",
              "192   4693000  "
            ],
            "text/html": [
              "\n",
              "  <div id=\"df-ba9ee7ef-ab30-4622-800d-7918e4e889f2\">\n",
              "    <div class=\"colab-df-container\">\n",
              "      <div>\n",
              "<style scoped>\n",
              "    .dataframe tbody tr th:only-of-type {\n",
              "        vertical-align: middle;\n",
              "    }\n",
              "\n",
              "    .dataframe tbody tr th {\n",
              "        vertical-align: top;\n",
              "    }\n",
              "\n",
              "    .dataframe thead th {\n",
              "        text-align: right;\n",
              "    }\n",
              "</style>\n",
              "<table border=\"1\" class=\"dataframe\">\n",
              "  <thead>\n",
              "    <tr style=\"text-align: right;\">\n",
              "      <th></th>\n",
              "      <th>Date</th>\n",
              "      <th>Open</th>\n",
              "      <th>High</th>\n",
              "      <th>Low</th>\n",
              "      <th>Close</th>\n",
              "      <th>Adj Close</th>\n",
              "      <th>Volume</th>\n",
              "    </tr>\n",
              "  </thead>\n",
              "  <tbody>\n",
              "    <tr>\n",
              "      <th>976</th>\n",
              "      <td>2015-11-18</td>\n",
              "      <td>42.900002</td>\n",
              "      <td>44.276001</td>\n",
              "      <td>42.504002</td>\n",
              "      <td>44.214001</td>\n",
              "      <td>44.214001</td>\n",
              "      <td>14059500</td>\n",
              "    </tr>\n",
              "    <tr>\n",
              "      <th>852</th>\n",
              "      <td>2015-05-26</td>\n",
              "      <td>49.535999</td>\n",
              "      <td>50.400002</td>\n",
              "      <td>49.299999</td>\n",
              "      <td>49.492001</td>\n",
              "      <td>49.492001</td>\n",
              "      <td>17493500</td>\n",
              "    </tr>\n",
              "    <tr>\n",
              "      <th>181</th>\n",
              "      <td>2012-09-20</td>\n",
              "      <td>6.186000</td>\n",
              "      <td>6.300000</td>\n",
              "      <td>6.136000</td>\n",
              "      <td>6.180000</td>\n",
              "      <td>6.180000</td>\n",
              "      <td>4562000</td>\n",
              "    </tr>\n",
              "    <tr>\n",
              "      <th>392</th>\n",
              "      <td>2013-07-26</td>\n",
              "      <td>25.628000</td>\n",
              "      <td>26.136000</td>\n",
              "      <td>25.322001</td>\n",
              "      <td>25.878000</td>\n",
              "      <td>25.878000</td>\n",
              "      <td>48165500</td>\n",
              "    </tr>\n",
              "    <tr>\n",
              "      <th>192</th>\n",
              "      <td>2012-10-05</td>\n",
              "      <td>5.940000</td>\n",
              "      <td>5.962000</td>\n",
              "      <td>5.736000</td>\n",
              "      <td>5.778000</td>\n",
              "      <td>5.778000</td>\n",
              "      <td>4693000</td>\n",
              "    </tr>\n",
              "  </tbody>\n",
              "</table>\n",
              "</div>\n",
              "      <button class=\"colab-df-convert\" onclick=\"convertToInteractive('df-ba9ee7ef-ab30-4622-800d-7918e4e889f2')\"\n",
              "              title=\"Convert this dataframe to an interactive table.\"\n",
              "              style=\"display:none;\">\n",
              "        \n",
              "  <svg xmlns=\"http://www.w3.org/2000/svg\" height=\"24px\"viewBox=\"0 0 24 24\"\n",
              "       width=\"24px\">\n",
              "    <path d=\"M0 0h24v24H0V0z\" fill=\"none\"/>\n",
              "    <path d=\"M18.56 5.44l.94 2.06.94-2.06 2.06-.94-2.06-.94-.94-2.06-.94 2.06-2.06.94zm-11 1L8.5 8.5l.94-2.06 2.06-.94-2.06-.94L8.5 2.5l-.94 2.06-2.06.94zm10 10l.94 2.06.94-2.06 2.06-.94-2.06-.94-.94-2.06-.94 2.06-2.06.94z\"/><path d=\"M17.41 7.96l-1.37-1.37c-.4-.4-.92-.59-1.43-.59-.52 0-1.04.2-1.43.59L10.3 9.45l-7.72 7.72c-.78.78-.78 2.05 0 2.83L4 21.41c.39.39.9.59 1.41.59.51 0 1.02-.2 1.41-.59l7.78-7.78 2.81-2.81c.8-.78.8-2.07 0-2.86zM5.41 20L4 18.59l7.72-7.72 1.47 1.35L5.41 20z\"/>\n",
              "  </svg>\n",
              "      </button>\n",
              "      \n",
              "  <style>\n",
              "    .colab-df-container {\n",
              "      display:flex;\n",
              "      flex-wrap:wrap;\n",
              "      gap: 12px;\n",
              "    }\n",
              "\n",
              "    .colab-df-convert {\n",
              "      background-color: #E8F0FE;\n",
              "      border: none;\n",
              "      border-radius: 50%;\n",
              "      cursor: pointer;\n",
              "      display: none;\n",
              "      fill: #1967D2;\n",
              "      height: 32px;\n",
              "      padding: 0 0 0 0;\n",
              "      width: 32px;\n",
              "    }\n",
              "\n",
              "    .colab-df-convert:hover {\n",
              "      background-color: #E2EBFA;\n",
              "      box-shadow: 0px 1px 2px rgba(60, 64, 67, 0.3), 0px 1px 3px 1px rgba(60, 64, 67, 0.15);\n",
              "      fill: #174EA6;\n",
              "    }\n",
              "\n",
              "    [theme=dark] .colab-df-convert {\n",
              "      background-color: #3B4455;\n",
              "      fill: #D2E3FC;\n",
              "    }\n",
              "\n",
              "    [theme=dark] .colab-df-convert:hover {\n",
              "      background-color: #434B5C;\n",
              "      box-shadow: 0px 1px 3px 1px rgba(0, 0, 0, 0.15);\n",
              "      filter: drop-shadow(0px 1px 2px rgba(0, 0, 0, 0.3));\n",
              "      fill: #FFFFFF;\n",
              "    }\n",
              "  </style>\n",
              "\n",
              "      <script>\n",
              "        const buttonEl =\n",
              "          document.querySelector('#df-ba9ee7ef-ab30-4622-800d-7918e4e889f2 button.colab-df-convert');\n",
              "        buttonEl.style.display =\n",
              "          google.colab.kernel.accessAllowed ? 'block' : 'none';\n",
              "\n",
              "        async function convertToInteractive(key) {\n",
              "          const element = document.querySelector('#df-ba9ee7ef-ab30-4622-800d-7918e4e889f2');\n",
              "          const dataTable =\n",
              "            await google.colab.kernel.invokeFunction('convertToInteractive',\n",
              "                                                     [key], {});\n",
              "          if (!dataTable) return;\n",
              "\n",
              "          const docLinkHtml = 'Like what you see? Visit the ' +\n",
              "            '<a target=\"_blank\" href=https://colab.research.google.com/notebooks/data_table.ipynb>data table notebook</a>'\n",
              "            + ' to learn more about interactive tables.';\n",
              "          element.innerHTML = '';\n",
              "          dataTable['output_type'] = 'display_data';\n",
              "          await google.colab.output.renderOutput(dataTable, element);\n",
              "          const docLink = document.createElement('div');\n",
              "          docLink.innerHTML = docLinkHtml;\n",
              "          element.appendChild(docLink);\n",
              "        }\n",
              "      </script>\n",
              "    </div>\n",
              "  </div>\n",
              "  "
            ]
          },
          "metadata": {},
          "execution_count": 86
        }
      ]
    },
    {
      "cell_type": "code",
      "metadata": {
        "id": "iiORNaHaE5f3",
        "colab": {
          "base_uri": "https://localhost:8080/",
          "height": 300
        },
        "outputId": "2b4a20b8-68a8-4e87-a305-6f5f0e12f4be"
      },
      "source": [
        "# Statistical summary\n",
        "# ---\n",
        "#\n",
        "train_df.describe() "
      ],
      "execution_count": 87,
      "outputs": [
        {
          "output_type": "execute_result",
          "data": {
            "text/plain": [
              "              Open         High          Low        Close    Adj Close  \\\n",
              "count  1258.000000  1258.000000  1258.000000  1258.000000  1258.000000   \n",
              "mean     31.997898    32.558671    31.403696    31.989245    31.989245   \n",
              "std      16.911515    17.148543    16.649245    16.903500    16.903500   \n",
              "min       5.324000     5.370000     4.528000     4.558000     4.558000   \n",
              "25%       8.403000     8.556000     8.197000     8.379500     8.379500   \n",
              "50%      39.411000    40.123998    38.709000    39.427000    39.427000   \n",
              "75%      45.214499    45.934999    44.303000    45.076502    45.076502   \n",
              "max      57.534000    58.284000    56.080002    57.208000    57.208000   \n",
              "\n",
              "             Volume  \n",
              "count  1.258000e+03  \n",
              "mean   2.551310e+07  \n",
              "std    2.259037e+07  \n",
              "min    1.824500e+06  \n",
              "25%    1.059400e+07  \n",
              "50%    2.007650e+07  \n",
              "75%    3.245150e+07  \n",
              "max    1.858195e+08  "
            ],
            "text/html": [
              "\n",
              "  <div id=\"df-b11def97-51b4-478b-ade2-eac5d72b6760\">\n",
              "    <div class=\"colab-df-container\">\n",
              "      <div>\n",
              "<style scoped>\n",
              "    .dataframe tbody tr th:only-of-type {\n",
              "        vertical-align: middle;\n",
              "    }\n",
              "\n",
              "    .dataframe tbody tr th {\n",
              "        vertical-align: top;\n",
              "    }\n",
              "\n",
              "    .dataframe thead th {\n",
              "        text-align: right;\n",
              "    }\n",
              "</style>\n",
              "<table border=\"1\" class=\"dataframe\">\n",
              "  <thead>\n",
              "    <tr style=\"text-align: right;\">\n",
              "      <th></th>\n",
              "      <th>Open</th>\n",
              "      <th>High</th>\n",
              "      <th>Low</th>\n",
              "      <th>Close</th>\n",
              "      <th>Adj Close</th>\n",
              "      <th>Volume</th>\n",
              "    </tr>\n",
              "  </thead>\n",
              "  <tbody>\n",
              "    <tr>\n",
              "      <th>count</th>\n",
              "      <td>1258.000000</td>\n",
              "      <td>1258.000000</td>\n",
              "      <td>1258.000000</td>\n",
              "      <td>1258.000000</td>\n",
              "      <td>1258.000000</td>\n",
              "      <td>1.258000e+03</td>\n",
              "    </tr>\n",
              "    <tr>\n",
              "      <th>mean</th>\n",
              "      <td>31.997898</td>\n",
              "      <td>32.558671</td>\n",
              "      <td>31.403696</td>\n",
              "      <td>31.989245</td>\n",
              "      <td>31.989245</td>\n",
              "      <td>2.551310e+07</td>\n",
              "    </tr>\n",
              "    <tr>\n",
              "      <th>std</th>\n",
              "      <td>16.911515</td>\n",
              "      <td>17.148543</td>\n",
              "      <td>16.649245</td>\n",
              "      <td>16.903500</td>\n",
              "      <td>16.903500</td>\n",
              "      <td>2.259037e+07</td>\n",
              "    </tr>\n",
              "    <tr>\n",
              "      <th>min</th>\n",
              "      <td>5.324000</td>\n",
              "      <td>5.370000</td>\n",
              "      <td>4.528000</td>\n",
              "      <td>4.558000</td>\n",
              "      <td>4.558000</td>\n",
              "      <td>1.824500e+06</td>\n",
              "    </tr>\n",
              "    <tr>\n",
              "      <th>25%</th>\n",
              "      <td>8.403000</td>\n",
              "      <td>8.556000</td>\n",
              "      <td>8.197000</td>\n",
              "      <td>8.379500</td>\n",
              "      <td>8.379500</td>\n",
              "      <td>1.059400e+07</td>\n",
              "    </tr>\n",
              "    <tr>\n",
              "      <th>50%</th>\n",
              "      <td>39.411000</td>\n",
              "      <td>40.123998</td>\n",
              "      <td>38.709000</td>\n",
              "      <td>39.427000</td>\n",
              "      <td>39.427000</td>\n",
              "      <td>2.007650e+07</td>\n",
              "    </tr>\n",
              "    <tr>\n",
              "      <th>75%</th>\n",
              "      <td>45.214499</td>\n",
              "      <td>45.934999</td>\n",
              "      <td>44.303000</td>\n",
              "      <td>45.076502</td>\n",
              "      <td>45.076502</td>\n",
              "      <td>3.245150e+07</td>\n",
              "    </tr>\n",
              "    <tr>\n",
              "      <th>max</th>\n",
              "      <td>57.534000</td>\n",
              "      <td>58.284000</td>\n",
              "      <td>56.080002</td>\n",
              "      <td>57.208000</td>\n",
              "      <td>57.208000</td>\n",
              "      <td>1.858195e+08</td>\n",
              "    </tr>\n",
              "  </tbody>\n",
              "</table>\n",
              "</div>\n",
              "      <button class=\"colab-df-convert\" onclick=\"convertToInteractive('df-b11def97-51b4-478b-ade2-eac5d72b6760')\"\n",
              "              title=\"Convert this dataframe to an interactive table.\"\n",
              "              style=\"display:none;\">\n",
              "        \n",
              "  <svg xmlns=\"http://www.w3.org/2000/svg\" height=\"24px\"viewBox=\"0 0 24 24\"\n",
              "       width=\"24px\">\n",
              "    <path d=\"M0 0h24v24H0V0z\" fill=\"none\"/>\n",
              "    <path d=\"M18.56 5.44l.94 2.06.94-2.06 2.06-.94-2.06-.94-.94-2.06-.94 2.06-2.06.94zm-11 1L8.5 8.5l.94-2.06 2.06-.94-2.06-.94L8.5 2.5l-.94 2.06-2.06.94zm10 10l.94 2.06.94-2.06 2.06-.94-2.06-.94-.94-2.06-.94 2.06-2.06.94z\"/><path d=\"M17.41 7.96l-1.37-1.37c-.4-.4-.92-.59-1.43-.59-.52 0-1.04.2-1.43.59L10.3 9.45l-7.72 7.72c-.78.78-.78 2.05 0 2.83L4 21.41c.39.39.9.59 1.41.59.51 0 1.02-.2 1.41-.59l7.78-7.78 2.81-2.81c.8-.78.8-2.07 0-2.86zM5.41 20L4 18.59l7.72-7.72 1.47 1.35L5.41 20z\"/>\n",
              "  </svg>\n",
              "      </button>\n",
              "      \n",
              "  <style>\n",
              "    .colab-df-container {\n",
              "      display:flex;\n",
              "      flex-wrap:wrap;\n",
              "      gap: 12px;\n",
              "    }\n",
              "\n",
              "    .colab-df-convert {\n",
              "      background-color: #E8F0FE;\n",
              "      border: none;\n",
              "      border-radius: 50%;\n",
              "      cursor: pointer;\n",
              "      display: none;\n",
              "      fill: #1967D2;\n",
              "      height: 32px;\n",
              "      padding: 0 0 0 0;\n",
              "      width: 32px;\n",
              "    }\n",
              "\n",
              "    .colab-df-convert:hover {\n",
              "      background-color: #E2EBFA;\n",
              "      box-shadow: 0px 1px 2px rgba(60, 64, 67, 0.3), 0px 1px 3px 1px rgba(60, 64, 67, 0.15);\n",
              "      fill: #174EA6;\n",
              "    }\n",
              "\n",
              "    [theme=dark] .colab-df-convert {\n",
              "      background-color: #3B4455;\n",
              "      fill: #D2E3FC;\n",
              "    }\n",
              "\n",
              "    [theme=dark] .colab-df-convert:hover {\n",
              "      background-color: #434B5C;\n",
              "      box-shadow: 0px 1px 3px 1px rgba(0, 0, 0, 0.15);\n",
              "      filter: drop-shadow(0px 1px 2px rgba(0, 0, 0, 0.3));\n",
              "      fill: #FFFFFF;\n",
              "    }\n",
              "  </style>\n",
              "\n",
              "      <script>\n",
              "        const buttonEl =\n",
              "          document.querySelector('#df-b11def97-51b4-478b-ade2-eac5d72b6760 button.colab-df-convert');\n",
              "        buttonEl.style.display =\n",
              "          google.colab.kernel.accessAllowed ? 'block' : 'none';\n",
              "\n",
              "        async function convertToInteractive(key) {\n",
              "          const element = document.querySelector('#df-b11def97-51b4-478b-ade2-eac5d72b6760');\n",
              "          const dataTable =\n",
              "            await google.colab.kernel.invokeFunction('convertToInteractive',\n",
              "                                                     [key], {});\n",
              "          if (!dataTable) return;\n",
              "\n",
              "          const docLinkHtml = 'Like what you see? Visit the ' +\n",
              "            '<a target=\"_blank\" href=https://colab.research.google.com/notebooks/data_table.ipynb>data table notebook</a>'\n",
              "            + ' to learn more about interactive tables.';\n",
              "          element.innerHTML = '';\n",
              "          dataTable['output_type'] = 'display_data';\n",
              "          await google.colab.output.renderOutput(dataTable, element);\n",
              "          const docLink = document.createElement('div');\n",
              "          docLink.innerHTML = docLinkHtml;\n",
              "          element.appendChild(docLink);\n",
              "        }\n",
              "      </script>\n",
              "    </div>\n",
              "  </div>\n",
              "  "
            ]
          },
          "metadata": {},
          "execution_count": 87
        }
      ]
    },
    {
      "cell_type": "markdown",
      "metadata": {
        "id": "uVLc3iMCE48d"
      },
      "source": [
        "## <font color='#2F4F4F'>Step 4. Data Preparation</font>"
      ]
    },
    {
      "cell_type": "code",
      "metadata": {
        "id": "1DD5qpc3Ivyf",
        "colab": {
          "base_uri": "https://localhost:8080/"
        },
        "outputId": "abeceecc-847b-443d-ee85-5c0bf60eacd2"
      },
      "source": [
        "# Getting our train dataset\n",
        "# ---\n",
        "#\n",
        "train_set = train_df.iloc[:, 1:2].values\n",
        "print(train_set)"
      ],
      "execution_count": 88,
      "outputs": [
        {
          "output_type": "stream",
          "name": "stdout",
          "text": [
            "[[ 5.788   ]\n",
            " [ 5.642   ]\n",
            " [ 5.552   ]\n",
            " ...\n",
            " [44.306   ]\n",
            " [43.712002]\n",
            " [43.259998]]\n"
          ]
        }
      ]
    },
    {
      "cell_type": "code",
      "metadata": {
        "id": "fBavdYmaDaQj",
        "colab": {
          "base_uri": "https://localhost:8080/"
        },
        "outputId": "223c86df-66d0-41f3-fa61-8c203acecacd"
      },
      "source": [
        "# Performing Feature scaling\n",
        "# ---\n",
        "#\n",
        "from sklearn.preprocessing import MinMaxScaler\n",
        "sc =  MinMaxScaler(feature_range = (0, 1))\n",
        "train_set_scaled = sc.fit_transform(train_set)\n",
        "print(train_set_scaled)"
      ],
      "execution_count": 89,
      "outputs": [
        {
          "output_type": "stream",
          "name": "stdout",
          "text": [
            "[[0.00888719]\n",
            " [0.00609079]\n",
            " [0.00436698]\n",
            " ...\n",
            " [0.74663857]\n",
            " [0.73526148]\n",
            " [0.72660406]]\n"
          ]
        }
      ]
    },
    {
      "cell_type": "code",
      "metadata": {
        "id": "Hdkim4BCDgdi"
      },
      "source": [
        "# Creating a dataset with 60 timesteps and 1 output\n",
        "# ---\n",
        "#\n",
        "X_train = []\n",
        "y_train = []\n",
        "for i in range(60, 1258):\n",
        "    X_train.append(train_set_scaled[i-60:i, 0])\n",
        "    y_train.append(train_set_scaled[i, 0])\n",
        "X_train, y_train = np.array(X_train), np.array(y_train)"
      ],
      "execution_count": 90,
      "outputs": []
    },
    {
      "cell_type": "code",
      "source": [
        "X_train.shape"
      ],
      "metadata": {
        "colab": {
          "base_uri": "https://localhost:8080/"
        },
        "id": "ZlP2qyqYvcZI",
        "outputId": "604d2182-3926-42bb-d382-b450d8d8e142"
      },
      "execution_count": 91,
      "outputs": [
        {
          "output_type": "execute_result",
          "data": {
            "text/plain": [
              "(1198, 60)"
            ]
          },
          "metadata": {},
          "execution_count": 91
        }
      ]
    },
    {
      "cell_type": "code",
      "source": [
        "y_train.shape"
      ],
      "metadata": {
        "colab": {
          "base_uri": "https://localhost:8080/"
        },
        "id": "gARYOnEGwqtP",
        "outputId": "2dd02de8-7d4e-41ca-99a8-441e2b43350b"
      },
      "execution_count": 92,
      "outputs": [
        {
          "output_type": "execute_result",
          "data": {
            "text/plain": [
              "(1198,)"
            ]
          },
          "metadata": {},
          "execution_count": 92
        }
      ]
    },
    {
      "cell_type": "code",
      "source": [
        "# Previewing X_train\n",
        "print(X_train)"
      ],
      "metadata": {
        "colab": {
          "base_uri": "https://localhost:8080/"
        },
        "id": "AbFgVwAJgjZA",
        "outputId": "51706dfb-c9de-4662-d281-ff6fe9a79940"
      },
      "execution_count": 93,
      "outputs": [
        {
          "output_type": "stream",
          "name": "stdout",
          "text": [
            "[[0.00888719 0.00609079 0.00436698 ... 0.03436123 0.04037541 0.04275043]\n",
            " [0.00609079 0.00436698 0.0022218  ... 0.04037541 0.04275043 0.04432101]\n",
            " [0.00436698 0.0022218  0.00145566 ... 0.04275043 0.04432101 0.04175445]\n",
            " ...\n",
            " [0.71128134 0.71434589 0.71105156 ... 0.69565219 0.69480939 0.72116457]\n",
            " [0.71434589 0.71105156 0.67358745 ... 0.69480939 0.72116457 0.74663857]\n",
            " [0.71105156 0.67358745 0.66799466 ... 0.72116457 0.74663857 0.73526148]]\n"
          ]
        }
      ]
    },
    {
      "cell_type": "code",
      "source": [
        "# Previewing y_train\n",
        "# ---\n",
        "#\n",
        "print(y_train)"
      ],
      "metadata": {
        "colab": {
          "base_uri": "https://localhost:8080/"
        },
        "id": "ySF7Vq2lg-lW",
        "outputId": "7a14b04e-4f07-4c61-d27b-152b2e967ed1"
      },
      "execution_count": 94,
      "outputs": [
        {
          "output_type": "stream",
          "name": "stdout",
          "text": [
            "[0.04432101 0.04175445 0.04102662 ... 0.74663857 0.73526148 0.72660406]\n"
          ]
        }
      ]
    },
    {
      "cell_type": "code",
      "metadata": {
        "id": "jcSQM2x8DlhI"
      },
      "source": [
        "# Reshaping \n",
        "# ---\n",
        "#\n",
        "X_train = np.reshape(X_train, (X_train.shape[0], X_train.shape[1], 1))"
      ],
      "execution_count": 95,
      "outputs": []
    },
    {
      "cell_type": "code",
      "source": [
        "X_train.shape"
      ],
      "metadata": {
        "colab": {
          "base_uri": "https://localhost:8080/"
        },
        "id": "J29-ANJZ_Rkk",
        "outputId": "532a62b6-9612-4bd7-9d72-5435fc33a731"
      },
      "execution_count": 96,
      "outputs": [
        {
          "output_type": "execute_result",
          "data": {
            "text/plain": [
              "(1198, 60, 1)"
            ]
          },
          "metadata": {},
          "execution_count": 96
        }
      ]
    },
    {
      "cell_type": "markdown",
      "metadata": {
        "id": "D4Qz7YGGHbee"
      },
      "source": [
        "##  <font color='#2F4F4F'>Step 5. Data Modeling</font>"
      ]
    },
    {
      "cell_type": "code",
      "metadata": {
        "id": "xSKGzmRNDtpV"
      },
      "source": [
        "# Building the RNN\n",
        "# ---\n",
        "#\n",
        "# Importing the Keras libraries and packages\n",
        "# ---\n",
        "#\n",
        "from keras.models import Sequential\n",
        "from keras.layers import Dense\n",
        "from keras.layers import LSTM\n",
        "from keras.layers import Dropout"
      ],
      "execution_count": 97,
      "outputs": []
    },
    {
      "cell_type": "code",
      "metadata": {
        "id": "l-oXw1R5Dy7T"
      },
      "source": [
        "# Initialising the RNN (Recurrent Neural Network)\n",
        "# ---\n",
        "#\n",
        "regressor = Sequential()\n",
        "\n",
        "# Adding the first LSTM layer and some Dropout regularisation\n",
        "# ---\n",
        "# 'units' is the number of LSTM neurons in the layer\n",
        "# 'return_sequences' is True as we need to add another LSTM layer after the current one.\n",
        "# 'input_shape' corresponds to the number of time stamps and the number of indicators.\n",
        "#  For 'Dropout', 20% of 50 neurons will be ignored randomly during each iteration of training.\n",
        "# ---\n",
        "# \n",
        "regressor.add(LSTM(units = 50, return_sequences = True, input_shape = (X_train.shape[1], 1)))\n",
        "regressor.add(Dropout(0.2))\n",
        "\n",
        "# Adding a second LSTM layer and some Dropout regularisation\n",
        "# ---\n",
        "#\n",
        "regressor.add(LSTM(units = 50, return_sequences = True))\n",
        "regressor.add(Dropout(0.2))\n",
        "\n",
        "# Adding a third LSTM layer and some Dropout regularisation\n",
        "# ---\n",
        "#\n",
        "regressor.add(LSTM(units = 50, return_sequences = True))\n",
        "regressor.add(Dropout(0.2))\n",
        "\n",
        "# Adding a fourth LSTM layer and some Dropout regularisation\n",
        "# ---\n",
        "# 'return_sequences' is False as we will not add more LSTM layers after this one.\n",
        "# ---\n",
        "regressor.add(LSTM(units = 50, return_sequences = False))\n",
        "regressor.add(Dropout(0.2))\n",
        "\n",
        "# Adding the output layer\n",
        "# ---\n",
        "# 'output dimension' is 1 since we are predicting 1 price each time.\n",
        "# ---\n",
        "#\n",
        "regressor.add(Dense(units = 1))"
      ],
      "execution_count": 98,
      "outputs": []
    },
    {
      "cell_type": "code",
      "metadata": {
        "id": "0nsqxXskD3IX"
      },
      "source": [
        "# Compile the RNN \n",
        "# ---\n",
        "#\n",
        "regressor.compile(optimizer = 'adam', loss = 'mean_squared_error')"
      ],
      "execution_count": 99,
      "outputs": []
    },
    {
      "cell_type": "code",
      "metadata": {
        "id": "obcll9uYD6od",
        "colab": {
          "base_uri": "https://localhost:8080/"
        },
        "outputId": "09ace326-c3dc-43c6-d6f1-0e877c97262d"
      },
      "source": [
        "# Fitting the RNN to the training set\n",
        "# ---\n",
        "#\n",
        "regressor.fit(X_train, y_train, epochs = 100, batch_size = 32)"
      ],
      "execution_count": 100,
      "outputs": [
        {
          "output_type": "stream",
          "name": "stdout",
          "text": [
            "Epoch 1/100\n",
            "38/38 [==============================] - 9s 62ms/step - loss: 0.0489\n",
            "Epoch 2/100\n",
            "38/38 [==============================] - 2s 61ms/step - loss: 0.0115\n",
            "Epoch 3/100\n",
            "38/38 [==============================] - 2s 61ms/step - loss: 0.0092\n",
            "Epoch 4/100\n",
            "38/38 [==============================] - 2s 61ms/step - loss: 0.0075\n",
            "Epoch 5/100\n",
            "38/38 [==============================] - 2s 61ms/step - loss: 0.0073\n",
            "Epoch 6/100\n",
            "38/38 [==============================] - 2s 61ms/step - loss: 0.0075\n",
            "Epoch 7/100\n",
            "38/38 [==============================] - 2s 61ms/step - loss: 0.0076\n",
            "Epoch 8/100\n",
            "38/38 [==============================] - 2s 61ms/step - loss: 0.0067\n",
            "Epoch 9/100\n",
            "38/38 [==============================] - 2s 62ms/step - loss: 0.0063\n",
            "Epoch 10/100\n",
            "38/38 [==============================] - 2s 61ms/step - loss: 0.0062\n",
            "Epoch 11/100\n",
            "38/38 [==============================] - 2s 61ms/step - loss: 0.0064\n",
            "Epoch 12/100\n",
            "38/38 [==============================] - 2s 61ms/step - loss: 0.0065\n",
            "Epoch 13/100\n",
            "38/38 [==============================] - 2s 61ms/step - loss: 0.0058\n",
            "Epoch 14/100\n",
            "38/38 [==============================] - 2s 62ms/step - loss: 0.0058\n",
            "Epoch 15/100\n",
            "38/38 [==============================] - 2s 62ms/step - loss: 0.0053\n",
            "Epoch 16/100\n",
            "38/38 [==============================] - 3s 67ms/step - loss: 0.0055\n",
            "Epoch 17/100\n",
            "38/38 [==============================] - 2s 63ms/step - loss: 0.0049\n",
            "Epoch 18/100\n",
            "38/38 [==============================] - 2s 62ms/step - loss: 0.0047\n",
            "Epoch 19/100\n",
            "38/38 [==============================] - 2s 62ms/step - loss: 0.0047\n",
            "Epoch 20/100\n",
            "38/38 [==============================] - 2s 61ms/step - loss: 0.0047\n",
            "Epoch 21/100\n",
            "38/38 [==============================] - 2s 62ms/step - loss: 0.0052\n",
            "Epoch 22/100\n",
            "38/38 [==============================] - 2s 62ms/step - loss: 0.0044\n",
            "Epoch 23/100\n",
            "38/38 [==============================] - 2s 61ms/step - loss: 0.0042\n",
            "Epoch 24/100\n",
            "38/38 [==============================] - 2s 61ms/step - loss: 0.0043\n",
            "Epoch 25/100\n",
            "38/38 [==============================] - 2s 62ms/step - loss: 0.0044\n",
            "Epoch 26/100\n",
            "38/38 [==============================] - 2s 62ms/step - loss: 0.0049\n",
            "Epoch 27/100\n",
            "38/38 [==============================] - 2s 62ms/step - loss: 0.0039\n",
            "Epoch 28/100\n",
            "38/38 [==============================] - 2s 62ms/step - loss: 0.0039\n",
            "Epoch 29/100\n",
            "38/38 [==============================] - 2s 61ms/step - loss: 0.0040\n",
            "Epoch 30/100\n",
            "38/38 [==============================] - 2s 62ms/step - loss: 0.0040\n",
            "Epoch 31/100\n",
            "38/38 [==============================] - 2s 62ms/step - loss: 0.0039\n",
            "Epoch 32/100\n",
            "38/38 [==============================] - 2s 61ms/step - loss: 0.0042\n",
            "Epoch 33/100\n",
            "38/38 [==============================] - 2s 62ms/step - loss: 0.0047\n",
            "Epoch 34/100\n",
            "38/38 [==============================] - 2s 61ms/step - loss: 0.0040\n",
            "Epoch 35/100\n",
            "38/38 [==============================] - 2s 62ms/step - loss: 0.0036\n",
            "Epoch 36/100\n",
            "38/38 [==============================] - 2s 61ms/step - loss: 0.0034\n",
            "Epoch 37/100\n",
            "38/38 [==============================] - 2s 62ms/step - loss: 0.0040\n",
            "Epoch 38/100\n",
            "38/38 [==============================] - 2s 62ms/step - loss: 0.0035\n",
            "Epoch 39/100\n",
            "38/38 [==============================] - 2s 62ms/step - loss: 0.0035\n",
            "Epoch 40/100\n",
            "38/38 [==============================] - 2s 62ms/step - loss: 0.0034\n",
            "Epoch 41/100\n",
            "38/38 [==============================] - 2s 62ms/step - loss: 0.0035\n",
            "Epoch 42/100\n",
            "38/38 [==============================] - 2s 63ms/step - loss: 0.0034\n",
            "Epoch 43/100\n",
            "38/38 [==============================] - 2s 62ms/step - loss: 0.0035\n",
            "Epoch 44/100\n",
            "38/38 [==============================] - 2s 61ms/step - loss: 0.0030\n",
            "Epoch 45/100\n",
            "38/38 [==============================] - 2s 65ms/step - loss: 0.0030\n",
            "Epoch 46/100\n",
            "38/38 [==============================] - 3s 67ms/step - loss: 0.0033\n",
            "Epoch 47/100\n",
            "38/38 [==============================] - 3s 68ms/step - loss: 0.0030\n",
            "Epoch 48/100\n",
            "38/38 [==============================] - 3s 70ms/step - loss: 0.0028\n",
            "Epoch 49/100\n",
            "38/38 [==============================] - 3s 70ms/step - loss: 0.0030\n",
            "Epoch 50/100\n",
            "38/38 [==============================] - 3s 71ms/step - loss: 0.0032\n",
            "Epoch 51/100\n",
            "38/38 [==============================] - 3s 71ms/step - loss: 0.0034\n",
            "Epoch 52/100\n",
            "38/38 [==============================] - 3s 70ms/step - loss: 0.0029\n",
            "Epoch 53/100\n",
            "38/38 [==============================] - 3s 67ms/step - loss: 0.0030\n",
            "Epoch 54/100\n",
            "38/38 [==============================] - 2s 63ms/step - loss: 0.0030\n",
            "Epoch 55/100\n",
            "38/38 [==============================] - 3s 66ms/step - loss: 0.0030\n",
            "Epoch 56/100\n",
            "38/38 [==============================] - 2s 62ms/step - loss: 0.0030\n",
            "Epoch 57/100\n",
            "38/38 [==============================] - 2s 62ms/step - loss: 0.0028\n",
            "Epoch 58/100\n",
            "38/38 [==============================] - 2s 62ms/step - loss: 0.0027\n",
            "Epoch 59/100\n",
            "38/38 [==============================] - 2s 62ms/step - loss: 0.0026\n",
            "Epoch 60/100\n",
            "38/38 [==============================] - 2s 62ms/step - loss: 0.0027\n",
            "Epoch 61/100\n",
            "38/38 [==============================] - 2s 62ms/step - loss: 0.0026\n",
            "Epoch 62/100\n",
            "38/38 [==============================] - 2s 65ms/step - loss: 0.0025\n",
            "Epoch 63/100\n",
            "38/38 [==============================] - 3s 70ms/step - loss: 0.0028\n",
            "Epoch 64/100\n",
            "38/38 [==============================] - 3s 69ms/step - loss: 0.0025\n",
            "Epoch 65/100\n",
            "38/38 [==============================] - 3s 66ms/step - loss: 0.0024\n",
            "Epoch 66/100\n",
            "38/38 [==============================] - 2s 65ms/step - loss: 0.0023\n",
            "Epoch 67/100\n",
            "38/38 [==============================] - 2s 61ms/step - loss: 0.0025\n",
            "Epoch 68/100\n",
            "38/38 [==============================] - 2s 63ms/step - loss: 0.0024\n",
            "Epoch 69/100\n",
            "38/38 [==============================] - 2s 62ms/step - loss: 0.0024\n",
            "Epoch 70/100\n",
            "38/38 [==============================] - 2s 62ms/step - loss: 0.0025\n",
            "Epoch 71/100\n",
            "38/38 [==============================] - 2s 61ms/step - loss: 0.0024\n",
            "Epoch 72/100\n",
            "38/38 [==============================] - 2s 64ms/step - loss: 0.0023\n",
            "Epoch 73/100\n",
            "38/38 [==============================] - 3s 67ms/step - loss: 0.0025\n",
            "Epoch 74/100\n",
            "38/38 [==============================] - 2s 65ms/step - loss: 0.0026\n",
            "Epoch 75/100\n",
            "38/38 [==============================] - 2s 64ms/step - loss: 0.0024\n",
            "Epoch 76/100\n",
            "38/38 [==============================] - 2s 63ms/step - loss: 0.0024\n",
            "Epoch 77/100\n",
            "38/38 [==============================] - 2s 61ms/step - loss: 0.0021\n",
            "Epoch 78/100\n",
            "38/38 [==============================] - 2s 63ms/step - loss: 0.0020\n",
            "Epoch 79/100\n",
            "38/38 [==============================] - 2s 63ms/step - loss: 0.0021\n",
            "Epoch 80/100\n",
            "38/38 [==============================] - 2s 62ms/step - loss: 0.0022\n",
            "Epoch 81/100\n",
            "38/38 [==============================] - 2s 63ms/step - loss: 0.0025\n",
            "Epoch 82/100\n",
            "38/38 [==============================] - 2s 62ms/step - loss: 0.0023\n",
            "Epoch 83/100\n",
            "38/38 [==============================] - 2s 61ms/step - loss: 0.0021\n",
            "Epoch 84/100\n",
            "38/38 [==============================] - 2s 62ms/step - loss: 0.0022\n",
            "Epoch 85/100\n",
            "38/38 [==============================] - 2s 61ms/step - loss: 0.0022\n",
            "Epoch 86/100\n",
            "38/38 [==============================] - 2s 61ms/step - loss: 0.0020\n",
            "Epoch 87/100\n",
            "38/38 [==============================] - 2s 61ms/step - loss: 0.0020\n",
            "Epoch 88/100\n",
            "38/38 [==============================] - 2s 62ms/step - loss: 0.0023\n",
            "Epoch 89/100\n",
            "38/38 [==============================] - 2s 62ms/step - loss: 0.0020\n",
            "Epoch 90/100\n",
            "38/38 [==============================] - 2s 61ms/step - loss: 0.0021\n",
            "Epoch 91/100\n",
            "38/38 [==============================] - 2s 60ms/step - loss: 0.0020\n",
            "Epoch 92/100\n",
            "38/38 [==============================] - 2s 63ms/step - loss: 0.0019\n",
            "Epoch 93/100\n",
            "38/38 [==============================] - 2s 62ms/step - loss: 0.0023\n",
            "Epoch 94/100\n",
            "38/38 [==============================] - 2s 63ms/step - loss: 0.0021\n",
            "Epoch 95/100\n",
            "38/38 [==============================] - 3s 66ms/step - loss: 0.0020\n",
            "Epoch 96/100\n",
            "38/38 [==============================] - 2s 61ms/step - loss: 0.0021\n",
            "Epoch 97/100\n",
            "38/38 [==============================] - 2s 62ms/step - loss: 0.0021\n",
            "Epoch 98/100\n",
            "38/38 [==============================] - 2s 62ms/step - loss: 0.0019\n",
            "Epoch 99/100\n",
            "38/38 [==============================] - 2s 61ms/step - loss: 0.0019\n",
            "Epoch 100/100\n",
            "38/38 [==============================] - 2s 61ms/step - loss: 0.0020\n"
          ]
        },
        {
          "output_type": "execute_result",
          "data": {
            "text/plain": [
              "<keras.callbacks.History at 0x7fa0f5dcda50>"
            ]
          },
          "metadata": {},
          "execution_count": 100
        }
      ]
    },
    {
      "cell_type": "code",
      "source": [
        "test_df = pd.read_csv('https://bit.ly/3kW8E0K')\n",
        "print(test_df.shape)"
      ],
      "metadata": {
        "colab": {
          "base_uri": "https://localhost:8080/"
        },
        "id": "iTBhagIzz8sF",
        "outputId": "1ab2aa39-8165-4c6a-801c-17cf52f4ee1b"
      },
      "execution_count": 101,
      "outputs": [
        {
          "output_type": "stream",
          "name": "stdout",
          "text": [
            "(212, 7)\n"
          ]
        }
      ]
    },
    {
      "cell_type": "code",
      "source": [
        "test_df.head()"
      ],
      "metadata": {
        "colab": {
          "base_uri": "https://localhost:8080/",
          "height": 206
        },
        "id": "jOGUjhtK1D0O",
        "outputId": "e398c7a6-31cd-4ca9-edf7-d9c6080e2027"
      },
      "execution_count": 102,
      "outputs": [
        {
          "output_type": "execute_result",
          "data": {
            "text/plain": [
              "         Date       Open       High        Low      Close  Adj Close  \\\n",
              "0  2020-01-06  88.094002  90.311996  88.000000  90.307999  90.307999   \n",
              "1  2020-01-07  92.279999  94.325996  90.671997  93.811996  93.811996   \n",
              "2  2020-01-08  94.739998  99.697998  93.646004  98.428001  98.428001   \n",
              "3  2020-01-09  99.419998  99.760002  94.573997  96.267998  96.267998   \n",
              "4  2020-01-10  96.358002  96.987999  94.739998  95.629997  95.629997   \n",
              "\n",
              "      Volume  \n",
              "0   50665000  \n",
              "1   89410500  \n",
              "2  155721500  \n",
              "3  142202000  \n",
              "4   64797500  "
            ],
            "text/html": [
              "\n",
              "  <div id=\"df-c7cf456d-d88a-430d-b2cf-f23f41e5c3d8\">\n",
              "    <div class=\"colab-df-container\">\n",
              "      <div>\n",
              "<style scoped>\n",
              "    .dataframe tbody tr th:only-of-type {\n",
              "        vertical-align: middle;\n",
              "    }\n",
              "\n",
              "    .dataframe tbody tr th {\n",
              "        vertical-align: top;\n",
              "    }\n",
              "\n",
              "    .dataframe thead th {\n",
              "        text-align: right;\n",
              "    }\n",
              "</style>\n",
              "<table border=\"1\" class=\"dataframe\">\n",
              "  <thead>\n",
              "    <tr style=\"text-align: right;\">\n",
              "      <th></th>\n",
              "      <th>Date</th>\n",
              "      <th>Open</th>\n",
              "      <th>High</th>\n",
              "      <th>Low</th>\n",
              "      <th>Close</th>\n",
              "      <th>Adj Close</th>\n",
              "      <th>Volume</th>\n",
              "    </tr>\n",
              "  </thead>\n",
              "  <tbody>\n",
              "    <tr>\n",
              "      <th>0</th>\n",
              "      <td>2020-01-06</td>\n",
              "      <td>88.094002</td>\n",
              "      <td>90.311996</td>\n",
              "      <td>88.000000</td>\n",
              "      <td>90.307999</td>\n",
              "      <td>90.307999</td>\n",
              "      <td>50665000</td>\n",
              "    </tr>\n",
              "    <tr>\n",
              "      <th>1</th>\n",
              "      <td>2020-01-07</td>\n",
              "      <td>92.279999</td>\n",
              "      <td>94.325996</td>\n",
              "      <td>90.671997</td>\n",
              "      <td>93.811996</td>\n",
              "      <td>93.811996</td>\n",
              "      <td>89410500</td>\n",
              "    </tr>\n",
              "    <tr>\n",
              "      <th>2</th>\n",
              "      <td>2020-01-08</td>\n",
              "      <td>94.739998</td>\n",
              "      <td>99.697998</td>\n",
              "      <td>93.646004</td>\n",
              "      <td>98.428001</td>\n",
              "      <td>98.428001</td>\n",
              "      <td>155721500</td>\n",
              "    </tr>\n",
              "    <tr>\n",
              "      <th>3</th>\n",
              "      <td>2020-01-09</td>\n",
              "      <td>99.419998</td>\n",
              "      <td>99.760002</td>\n",
              "      <td>94.573997</td>\n",
              "      <td>96.267998</td>\n",
              "      <td>96.267998</td>\n",
              "      <td>142202000</td>\n",
              "    </tr>\n",
              "    <tr>\n",
              "      <th>4</th>\n",
              "      <td>2020-01-10</td>\n",
              "      <td>96.358002</td>\n",
              "      <td>96.987999</td>\n",
              "      <td>94.739998</td>\n",
              "      <td>95.629997</td>\n",
              "      <td>95.629997</td>\n",
              "      <td>64797500</td>\n",
              "    </tr>\n",
              "  </tbody>\n",
              "</table>\n",
              "</div>\n",
              "      <button class=\"colab-df-convert\" onclick=\"convertToInteractive('df-c7cf456d-d88a-430d-b2cf-f23f41e5c3d8')\"\n",
              "              title=\"Convert this dataframe to an interactive table.\"\n",
              "              style=\"display:none;\">\n",
              "        \n",
              "  <svg xmlns=\"http://www.w3.org/2000/svg\" height=\"24px\"viewBox=\"0 0 24 24\"\n",
              "       width=\"24px\">\n",
              "    <path d=\"M0 0h24v24H0V0z\" fill=\"none\"/>\n",
              "    <path d=\"M18.56 5.44l.94 2.06.94-2.06 2.06-.94-2.06-.94-.94-2.06-.94 2.06-2.06.94zm-11 1L8.5 8.5l.94-2.06 2.06-.94-2.06-.94L8.5 2.5l-.94 2.06-2.06.94zm10 10l.94 2.06.94-2.06 2.06-.94-2.06-.94-.94-2.06-.94 2.06-2.06.94z\"/><path d=\"M17.41 7.96l-1.37-1.37c-.4-.4-.92-.59-1.43-.59-.52 0-1.04.2-1.43.59L10.3 9.45l-7.72 7.72c-.78.78-.78 2.05 0 2.83L4 21.41c.39.39.9.59 1.41.59.51 0 1.02-.2 1.41-.59l7.78-7.78 2.81-2.81c.8-.78.8-2.07 0-2.86zM5.41 20L4 18.59l7.72-7.72 1.47 1.35L5.41 20z\"/>\n",
              "  </svg>\n",
              "      </button>\n",
              "      \n",
              "  <style>\n",
              "    .colab-df-container {\n",
              "      display:flex;\n",
              "      flex-wrap:wrap;\n",
              "      gap: 12px;\n",
              "    }\n",
              "\n",
              "    .colab-df-convert {\n",
              "      background-color: #E8F0FE;\n",
              "      border: none;\n",
              "      border-radius: 50%;\n",
              "      cursor: pointer;\n",
              "      display: none;\n",
              "      fill: #1967D2;\n",
              "      height: 32px;\n",
              "      padding: 0 0 0 0;\n",
              "      width: 32px;\n",
              "    }\n",
              "\n",
              "    .colab-df-convert:hover {\n",
              "      background-color: #E2EBFA;\n",
              "      box-shadow: 0px 1px 2px rgba(60, 64, 67, 0.3), 0px 1px 3px 1px rgba(60, 64, 67, 0.15);\n",
              "      fill: #174EA6;\n",
              "    }\n",
              "\n",
              "    [theme=dark] .colab-df-convert {\n",
              "      background-color: #3B4455;\n",
              "      fill: #D2E3FC;\n",
              "    }\n",
              "\n",
              "    [theme=dark] .colab-df-convert:hover {\n",
              "      background-color: #434B5C;\n",
              "      box-shadow: 0px 1px 3px 1px rgba(0, 0, 0, 0.15);\n",
              "      filter: drop-shadow(0px 1px 2px rgba(0, 0, 0, 0.3));\n",
              "      fill: #FFFFFF;\n",
              "    }\n",
              "  </style>\n",
              "\n",
              "      <script>\n",
              "        const buttonEl =\n",
              "          document.querySelector('#df-c7cf456d-d88a-430d-b2cf-f23f41e5c3d8 button.colab-df-convert');\n",
              "        buttonEl.style.display =\n",
              "          google.colab.kernel.accessAllowed ? 'block' : 'none';\n",
              "\n",
              "        async function convertToInteractive(key) {\n",
              "          const element = document.querySelector('#df-c7cf456d-d88a-430d-b2cf-f23f41e5c3d8');\n",
              "          const dataTable =\n",
              "            await google.colab.kernel.invokeFunction('convertToInteractive',\n",
              "                                                     [key], {});\n",
              "          if (!dataTable) return;\n",
              "\n",
              "          const docLinkHtml = 'Like what you see? Visit the ' +\n",
              "            '<a target=\"_blank\" href=https://colab.research.google.com/notebooks/data_table.ipynb>data table notebook</a>'\n",
              "            + ' to learn more about interactive tables.';\n",
              "          element.innerHTML = '';\n",
              "          dataTable['output_type'] = 'display_data';\n",
              "          await google.colab.output.renderOutput(dataTable, element);\n",
              "          const docLink = document.createElement('div');\n",
              "          docLink.innerHTML = docLinkHtml;\n",
              "          element.appendChild(docLink);\n",
              "        }\n",
              "      </script>\n",
              "    </div>\n",
              "  </div>\n",
              "  "
            ]
          },
          "metadata": {},
          "execution_count": 102
        }
      ]
    },
    {
      "cell_type": "code",
      "source": [
        "# Getting Test Dataset feature values\n",
        "# ---\n",
        "# NB: We are using the 'Open' feature\n",
        "# ---\n",
        "#\n",
        "real_stock_price = test_df.iloc[:, 1:2].values\n",
        "print(real_stock_price)"
      ],
      "metadata": {
        "colab": {
          "base_uri": "https://localhost:8080/"
        },
        "id": "iKyiqM-Yh3h8",
        "outputId": "9ab9c0e2-ac6f-4e4b-ce23-aa87de30b9b4"
      },
      "execution_count": 103,
      "outputs": [
        {
          "output_type": "stream",
          "name": "stdout",
          "text": [
            "[[ 88.094002]\n",
            " [ 92.279999]\n",
            " [ 94.739998]\n",
            " [ 99.419998]\n",
            " [ 96.358002]\n",
            " [ 98.699997]\n",
            " [108.851997]\n",
            " [105.952003]\n",
            " [ 98.75    ]\n",
            " [101.522003]\n",
            " [106.050003]\n",
            " [114.377998]\n",
            " [112.849998]\n",
            " [114.125999]\n",
            " [108.398003]\n",
            " [113.697998]\n",
            " [115.138   ]\n",
            " [126.484001]\n",
            " [128.      ]\n",
            " [134.738007]\n",
            " [176.591995]\n",
            " [164.651993]\n",
            " [139.983994]\n",
            " [146.110001]\n",
            " [160.      ]\n",
            " [153.757996]\n",
            " [155.574005]\n",
            " [148.367996]\n",
            " [157.444   ]\n",
            " [168.320007]\n",
            " [184.699997]\n",
            " [182.389999]\n",
            " [181.395996]\n",
            " [167.800003]\n",
            " [169.800003]\n",
            " [156.5     ]\n",
            " [146.      ]\n",
            " [125.940002]\n",
            " [142.251999]\n",
            " [161.      ]\n",
            " [152.792007]\n",
            " [144.753998]\n",
            " [138.      ]\n",
            " [121.078003]\n",
            " [131.886002]\n",
            " [128.039993]\n",
            " [116.178001]\n",
            " [119.      ]\n",
            " [ 93.900002]\n",
            " [ 88.001999]\n",
            " [ 77.800003]\n",
            " [ 74.940002]\n",
            " [ 87.639999]\n",
            " [ 86.720001]\n",
            " [ 95.459999]\n",
            " [109.050003]\n",
            " [109.477997]\n",
            " [101.      ]\n",
            " [102.052002]\n",
            " [100.25    ]\n",
            " [100.800003]\n",
            " [ 96.206001]\n",
            " [101.900002]\n",
            " [102.239998]\n",
            " [109.      ]\n",
            " [110.839996]\n",
            " [112.417999]\n",
            " [118.031998]\n",
            " [139.794006]\n",
            " [148.399994]\n",
            " [143.388   ]\n",
            " [154.455994]\n",
            " [146.539993]\n",
            " [146.024002]\n",
            " [140.796005]\n",
            " [145.520004]\n",
            " [142.162003]\n",
            " [147.522003]\n",
            " [159.128006]\n",
            " [158.033997]\n",
            " [171.037994]\n",
            " [151.      ]\n",
            " [140.199997]\n",
            " [157.957993]\n",
            " [155.300003]\n",
            " [155.442001]\n",
            " [158.753998]\n",
            " [158.102005]\n",
            " [165.399994]\n",
            " [164.166   ]\n",
            " [156.      ]\n",
            " [158.070007]\n",
            " [165.556   ]\n",
            " [163.033997]\n",
            " [164.100006]\n",
            " [163.199997]\n",
            " [164.434006]\n",
            " [166.899994]\n",
            " [164.171997]\n",
            " [162.701996]\n",
            " [161.75    ]\n",
            " [171.600006]\n",
            " [178.940002]\n",
            " [177.623993]\n",
            " [177.975998]\n",
            " [175.567993]\n",
            " [183.800003]\n",
            " [188.001999]\n",
            " [198.376007]\n",
            " [198.039993]\n",
            " [196.      ]\n",
            " [183.557999]\n",
            " [202.369995]\n",
            " [197.542007]\n",
            " [200.600006]\n",
            " [202.556   ]\n",
            " [199.990005]\n",
            " [199.776001]\n",
            " [198.822006]\n",
            " [190.854004]\n",
            " [198.955994]\n",
            " [193.802002]\n",
            " [201.300003]\n",
            " [216.600006]\n",
            " [244.296005]\n",
            " [255.337997]\n",
            " [281.002014]\n",
            " [281.      ]\n",
            " [279.39801 ]\n",
            " [279.200012]\n",
            " [331.799988]\n",
            " [311.200012]\n",
            " [308.600006]\n",
            " [295.432007]\n",
            " [302.690002]\n",
            " [303.802002]\n",
            " [327.985992]\n",
            " [319.799988]\n",
            " [335.790009]\n",
            " [283.201996]\n",
            " [287.      ]\n",
            " [300.799988]\n",
            " [300.200012]\n",
            " [297.600006]\n",
            " [303.      ]\n",
            " [289.839996]\n",
            " [299.002014]\n",
            " [298.597992]\n",
            " [298.165985]\n",
            " [299.90799 ]\n",
            " [289.600006]\n",
            " [279.200012]\n",
            " [294.      ]\n",
            " [322.200012]\n",
            " [332.997986]\n",
            " [335.399994]\n",
            " [379.798004]\n",
            " [373.      ]\n",
            " [372.135986]\n",
            " [408.951996]\n",
            " [425.256012]\n",
            " [394.977997]\n",
            " [412.      ]\n",
            " [436.09201 ]\n",
            " [459.023987]\n",
            " [444.609985]\n",
            " [502.140015]\n",
            " [478.98999 ]\n",
            " [407.230011]\n",
            " [402.809998]\n",
            " [356.      ]\n",
            " [356.600006]\n",
            " [386.209991]\n",
            " [381.940002]\n",
            " [380.950012]\n",
            " [436.559998]\n",
            " [439.869995]\n",
            " [415.600006]\n",
            " [447.940002]\n",
            " [453.130005]\n",
            " [429.600006]\n",
            " [405.160004]\n",
            " [363.799988]\n",
            " [393.470001]\n",
            " [424.619995]\n",
            " [416.      ]\n",
            " [421.320007]\n",
            " [440.76001 ]\n",
            " [421.390015]\n",
            " [423.350006]\n",
            " [423.790009]\n",
            " [419.869995]\n",
            " [438.440002]\n",
            " [430.130005]\n",
            " [442.      ]\n",
            " [443.350006]\n",
            " [449.779999]\n",
            " [450.309998]\n",
            " [454.440002]\n",
            " [446.23999 ]\n",
            " [431.75    ]\n",
            " [422.700012]\n",
            " [441.920013]\n",
            " [421.839996]\n",
            " [411.630005]\n",
            " [423.76001 ]\n",
            " [416.480011]\n",
            " [409.959991]\n",
            " [406.899994]\n",
            " [394.      ]\n",
            " [409.730011]\n",
            " [430.619995]]\n"
          ]
        }
      ]
    },
    {
      "cell_type": "code",
      "metadata": {
        "id": "nywLR70_w_Or"
      },
      "source": [
        "# Making predictions: Getting the predicted stock price for 2017\n",
        "# ---\n",
        "#\n",
        "# We need to concatenate the train and test datasets for prediction, \n",
        "# because we use the previous 60 days' stock prices to predict the next-day price. \n",
        "# i.e. we need the 60 days' price before the 1st date in the test dataset.\n",
        "# ---\n",
        "#\n",
        "dataset_total = pd.concat((train_df['Open'],\n",
        "                           test_df['Open']), axis=0)\n",
        "\n",
        "# We create the input for prediction, index starting from the \n",
        "# date 60 days before the first date in the test dataset.\n",
        "# ---\n",
        "#\n",
        "inputs = dataset_total[len(dataset_total)-len(test_df)-60:].values\n",
        "\n",
        "# Reshaping the inputs to have only 1 column\n",
        "# ---\n",
        "#\n",
        "inputs = inputs.reshape(-1, 1)\n",
        "\n",
        "\n",
        "# Using the scale set by the training set to scale the test inputs\n",
        "# ---\n",
        "#\n",
        "inputs = sc.transform(inputs)\n",
        "\n"
      ],
      "execution_count": 104,
      "outputs": []
    },
    {
      "cell_type": "code",
      "source": [
        "len(inputs)"
      ],
      "metadata": {
        "colab": {
          "base_uri": "https://localhost:8080/"
        },
        "id": "fso2_cwLEw9X",
        "outputId": "19eef914-1801-480c-dc82-66073ce72b47"
      },
      "execution_count": 105,
      "outputs": [
        {
          "output_type": "execute_result",
          "data": {
            "text/plain": [
              "272"
            ]
          },
          "metadata": {},
          "execution_count": 105
        }
      ]
    },
    {
      "cell_type": "code",
      "source": [
        "# Then creating the test data structure just as we did for the train dataset\n",
        "# ---\n",
        "#\n",
        "X_test = []\n",
        "for i in range(60, len(inputs)): \n",
        "    X_test.append(inputs[i-60:i, 0])\n",
        "X_test = np.array(X_test)\n",
        "X_test = np.reshape(X_test, (X_test.shape[0],\n",
        "                    X_test.shape[1], 1))"
      ],
      "metadata": {
        "id": "Tfdd-velErGY"
      },
      "execution_count": 106,
      "outputs": []
    },
    {
      "cell_type": "code",
      "source": [
        "X_test.shape"
      ],
      "metadata": {
        "colab": {
          "base_uri": "https://localhost:8080/"
        },
        "id": "JRp7WnBRxjiF",
        "outputId": "1083e272-8221-4d62-9da0-e88a41a45281"
      },
      "execution_count": 107,
      "outputs": [
        {
          "output_type": "execute_result",
          "data": {
            "text/plain": [
              "(212, 60, 1)"
            ]
          },
          "metadata": {},
          "execution_count": 107
        }
      ]
    },
    {
      "cell_type": "code",
      "source": [
        "dataset_total.shape"
      ],
      "metadata": {
        "colab": {
          "base_uri": "https://localhost:8080/"
        },
        "id": "bWYQcu46Bwm1",
        "outputId": "2a467ec8-0279-4135-ddd7-31410338cc79"
      },
      "execution_count": 108,
      "outputs": [
        {
          "output_type": "execute_result",
          "data": {
            "text/plain": [
              "(1470,)"
            ]
          },
          "metadata": {},
          "execution_count": 108
        }
      ]
    },
    {
      "cell_type": "code",
      "source": [
        "inputs = dataset_total[len(dataset_total)-len(test_df)-60:]\n",
        "inputs"
      ],
      "metadata": {
        "colab": {
          "base_uri": "https://localhost:8080/"
        },
        "id": "6OaUhTMBB7W7",
        "outputId": "2bcf7e80-ddbd-4c60-d2cc-fe68d7de3696"
      },
      "execution_count": 109,
      "outputs": [
        {
          "output_type": "execute_result",
          "data": {
            "text/plain": [
              "1198     40.492001\n",
              "1199     40.200001\n",
              "1200     40.270000\n",
              "1201     40.369999\n",
              "1202     40.189999\n",
              "           ...    \n",
              "207     409.959991\n",
              "208     406.899994\n",
              "209     394.000000\n",
              "210     409.730011\n",
              "211     430.619995\n",
              "Name: Open, Length: 272, dtype: float64"
            ]
          },
          "metadata": {},
          "execution_count": 109
        }
      ]
    },
    {
      "cell_type": "code",
      "source": [
        "inputs"
      ],
      "metadata": {
        "colab": {
          "base_uri": "https://localhost:8080/"
        },
        "id": "-LSDyytxCI_P",
        "outputId": "407cf6b7-9fdb-4423-e2e1-d89e36755846"
      },
      "execution_count": 110,
      "outputs": [
        {
          "output_type": "execute_result",
          "data": {
            "text/plain": [
              "1198     40.492001\n",
              "1199     40.200001\n",
              "1200     40.270000\n",
              "1201     40.369999\n",
              "1202     40.189999\n",
              "           ...    \n",
              "207     409.959991\n",
              "208     406.899994\n",
              "209     394.000000\n",
              "210     409.730011\n",
              "211     430.619995\n",
              "Name: Open, Length: 272, dtype: float64"
            ]
          },
          "metadata": {},
          "execution_count": 110
        }
      ]
    },
    {
      "cell_type": "code",
      "source": [
        "# Making our Predictions\n",
        "# ---\n",
        "#\n",
        "predicted_stock_price = regressor.predict(X_test)"
      ],
      "metadata": {
        "id": "XTmiReiZiF04"
      },
      "execution_count": 111,
      "outputs": []
    },
    {
      "cell_type": "code",
      "source": [
        "# Since we have predicted the scaled values, we reverse those values\n",
        "# ---\n",
        "#\n",
        "predicted_stock_price = sc.inverse_transform(predicted_stock_price)\n",
        "print(predicted_stock_price)"
      ],
      "metadata": {
        "colab": {
          "base_uri": "https://localhost:8080/"
        },
        "id": "EtewBftLiJcw",
        "outputId": "fc3cbd50-5019-4ee7-a714-49f5cb9fc5d0"
      },
      "execution_count": 112,
      "outputs": [
        {
          "output_type": "stream",
          "name": "stdout",
          "text": [
            "[[ 44.780064]\n",
            " [ 65.65274 ]\n",
            " [ 89.62113 ]\n",
            " [ 87.17149 ]\n",
            " [ 89.1203  ]\n",
            " [ 86.44083 ]\n",
            " [ 90.25917 ]\n",
            " [100.06679 ]\n",
            " [ 91.608116]\n",
            " [ 86.42033 ]\n",
            " [ 92.49989 ]\n",
            " [ 95.301025]\n",
            " [100.52483 ]\n",
            " [ 94.20822 ]\n",
            " [ 96.841545]\n",
            " [ 90.3176  ]\n",
            " [ 98.9582  ]\n",
            " [ 96.98775 ]\n",
            " [107.424934]\n",
            " [101.423904]\n",
            " [108.78768 ]\n",
            " [135.96227 ]\n",
            " [104.65682 ]\n",
            " [ 90.76867 ]\n",
            " [122.93019 ]\n",
            " [119.32813 ]\n",
            " [102.26153 ]\n",
            " [118.42828 ]\n",
            " [103.103134]\n",
            " [121.86171 ]\n",
            " [119.25153 ]\n",
            " [126.865234]\n",
            " [115.05971 ]\n",
            " [121.28979 ]\n",
            " [106.26731 ]\n",
            " [124.16037 ]\n",
            " [ 99.58085 ]\n",
            " [106.88202 ]\n",
            " [ 90.45479 ]\n",
            " [119.82802 ]\n",
            " [119.3371  ]\n",
            " [ 99.76226 ]\n",
            " [105.22127 ]\n",
            " [103.34818 ]\n",
            " [ 88.579544]\n",
            " [111.69525 ]\n",
            " [ 96.96379 ]\n",
            " [ 88.59643 ]\n",
            " [100.277824]\n",
            " [ 74.7514  ]\n",
            " [ 76.853645]\n",
            " [ 71.4981  ]\n",
            " [ 69.210686]\n",
            " [ 77.3319  ]\n",
            " [ 79.12655 ]\n",
            " [ 84.61901 ]\n",
            " [ 95.71088 ]\n",
            " [ 91.92394 ]\n",
            " [ 83.08523 ]\n",
            " [ 89.716896]\n",
            " [ 88.12275 ]\n",
            " [ 89.23509 ]\n",
            " [ 85.09368 ]\n",
            " [ 91.98944 ]\n",
            " [ 90.34768 ]\n",
            " [ 96.236374]\n",
            " [ 95.03542 ]\n",
            " [ 95.55657 ]\n",
            " [101.01663 ]\n",
            " [118.20519 ]\n",
            " [111.98272 ]\n",
            " [102.66866 ]\n",
            " [123.46594 ]\n",
            " [ 99.89668 ]\n",
            " [113.348656]\n",
            " [104.0544  ]\n",
            " [114.26393 ]\n",
            " [103.57968 ]\n",
            " [114.766914]\n",
            " [118.89546 ]\n",
            " [108.31388 ]\n",
            " [126.678604]\n",
            " [ 91.89591 ]\n",
            " [106.73611 ]\n",
            " [126.242485]\n",
            " [103.32933 ]\n",
            " [113.753746]\n",
            " [115.78929 ]\n",
            " [110.16012 ]\n",
            " [120.85816 ]\n",
            " [110.91823 ]\n",
            " [106.96214 ]\n",
            " [117.95362 ]\n",
            " [118.0899  ]\n",
            " [109.685   ]\n",
            " [117.48297 ]\n",
            " [112.85852 ]\n",
            " [115.929184]\n",
            " [116.69079 ]\n",
            " [111.62755 ]\n",
            " [114.62871 ]\n",
            " [113.41701 ]\n",
            " [123.378784]\n",
            " [119.73261 ]\n",
            " [115.95144 ]\n",
            " [120.46606 ]\n",
            " [115.8646  ]\n",
            " [126.60449 ]\n",
            " [120.560135]\n",
            " [129.20174 ]\n",
            " [120.98325 ]\n",
            " [123.34454 ]\n",
            " [112.528595]\n",
            " [139.46118 ]\n",
            " [113.857   ]\n",
            " [130.03622 ]\n",
            " [124.32299 ]\n",
            " [122.17472 ]\n",
            " [125.59187 ]\n",
            " [122.89739 ]\n",
            " [117.14992 ]\n",
            " [131.91513 ]\n",
            " [115.06709 ]\n",
            " [132.08673 ]\n",
            " [131.11435 ]\n",
            " [138.70341 ]\n",
            " [135.55234 ]\n",
            " [142.50519 ]\n",
            " [138.24284 ]\n",
            " [139.07596 ]\n",
            " [139.18489 ]\n",
            " [147.68808 ]\n",
            " [140.37105 ]\n",
            " [142.63626 ]\n",
            " [140.09099 ]\n",
            " [142.8293  ]\n",
            " [141.59196 ]\n",
            " [145.3348  ]\n",
            " [142.34917 ]\n",
            " [145.5298  ]\n",
            " [135.42456 ]\n",
            " [142.7925  ]\n",
            " [142.24684 ]\n",
            " [140.95079 ]\n",
            " [141.05022 ]\n",
            " [142.2382  ]\n",
            " [138.76445 ]\n",
            " [142.77608 ]\n",
            " [140.6032  ]\n",
            " [141.17404 ]\n",
            " [141.45454 ]\n",
            " [139.04568 ]\n",
            " [138.06848 ]\n",
            " [142.88385 ]\n",
            " [144.24211 ]\n",
            " [144.11874 ]\n",
            " [144.3943  ]\n",
            " [148.15204 ]\n",
            " [146.29677 ]\n",
            " [147.02782 ]\n",
            " [148.97179 ]\n",
            " [148.99382 ]\n",
            " [147.95834 ]\n",
            " [149.19115 ]\n",
            " [149.66386 ]\n",
            " [150.16713 ]\n",
            " [149.79291 ]\n",
            " [151.15974 ]\n",
            " [150.4666  ]\n",
            " [149.00108 ]\n",
            " [149.35516 ]\n",
            " [147.02995 ]\n",
            " [147.7862  ]\n",
            " [148.92067 ]\n",
            " [148.01138 ]\n",
            " [148.21803 ]\n",
            " [150.2745  ]\n",
            " [149.62927 ]\n",
            " [149.18585 ]\n",
            " [150.37836 ]\n",
            " [150.14502 ]\n",
            " [149.66554 ]\n",
            " [149.09944 ]\n",
            " [147.45364 ]\n",
            " [149.45786 ]\n",
            " [149.66866 ]\n",
            " [149.22433 ]\n",
            " [149.59885 ]\n",
            " [150.07556 ]\n",
            " [149.39209 ]\n",
            " [149.7123  ]\n",
            " [149.64554 ]\n",
            " [149.53775 ]\n",
            " [150.11377 ]\n",
            " [149.70421 ]\n",
            " [150.17143 ]\n",
            " [150.08182 ]\n",
            " [150.28276 ]\n",
            " [150.26195 ]\n",
            " [150.38521 ]\n",
            " [150.18399 ]\n",
            " [149.89742 ]\n",
            " [149.73492 ]\n",
            " [150.28078 ]\n",
            " [149.52954 ]\n",
            " [149.43884 ]\n",
            " [149.84291 ]\n",
            " [149.43477 ]\n",
            " [149.33186 ]\n",
            " [149.25493 ]\n",
            " [148.76135 ]\n",
            " [149.49716 ]]\n"
          ]
        }
      ]
    },
    {
      "cell_type": "code",
      "metadata": {
        "id": "DdqVPzPO-7Ca",
        "colab": {
          "base_uri": "https://localhost:8080/",
          "height": 295
        },
        "outputId": "3682e276-eca3-4e66-8755-9bb9ec060ed4"
      },
      "source": [
        "# Visualizing the results for predictions\n",
        "# ---\n",
        "#\n",
        "plt.plot(real_stock_price, color='red', label='Real Google Stock Price')\n",
        "plt.plot(predicted_stock_price, color='blue',\n",
        "         label='Predicted Google Stock Price')\n",
        "plt.title('Google Stock Price Prediction by TDP')\n",
        "plt.xlabel('Time')\n",
        "plt.ylabel('Google Stock Price')\n",
        "plt.legend()\n",
        "plt.show()"
      ],
      "execution_count": 113,
      "outputs": [
        {
          "output_type": "display_data",
          "data": {
            "text/plain": [
              "<Figure size 432x288 with 1 Axes>"
            ],
            "image/png": "[encoded data removed]"
          },
          "metadata": {
            "needs_background": "light"
          }
        }
      ]
    },
    {
      "cell_type": "code",
      "metadata": {
        "id": "DawtOvbkdRHl",
        "colab": {
          "base_uri": "https://localhost:8080/"
        },
        "outputId": "ae044518-a329-4ddd-e8a8-b22a758b7d7f"
      },
      "source": [
        "# Model Evaluation \n",
        "# ---\n",
        "#RMSE\n",
        "# NB: This may not be very relevant here since we care about the direction of the price, not the exact price\n",
        "# --\n",
        "#\n",
        "import math\n",
        "from sklearn.metrics import mean_squared_error\n",
        "rmse = math.sqrt(mean_squared_error(real_stock_price, predicted_stock_price))\n",
        "print(rmse)"
      ],
      "execution_count": 114,
      "outputs": [
        {
          "output_type": "stream",
          "name": "stdout",
          "text": [
            "156.68231518263818\n"
          ]
        }
      ]
    },
    {
      "cell_type": "markdown",
      "metadata": {
        "id": "cnkCNAuEHlzG"
      },
      "source": [
        "## <font color='#2F4F4F'>Step 6. Summary of Findings and Recommendation</font>"
      ]
    },
    {
      "cell_type": "code",
      "source": [
        "real_stock_price = sc.inverse_transform(real_stock_price)\n"
      ],
      "metadata": {
        "id": "T-_M-q9gG5Td"
      },
      "execution_count": 119,
      "outputs": []
    },
    {
      "cell_type": "code",
      "source": [
        "print(real_stock_price.mean())"
      ],
      "metadata": {
        "colab": {
          "base_uri": "https://localhost:8080/"
        },
        "id": "SX3-n9JVGrl5",
        "outputId": "c63b9481-d913-4a04-8630-d6376e970dc0"
      },
      "execution_count": 123,
      "outputs": [
        {
          "output_type": "stream",
          "name": "stdout",
          "text": [
            "656388.5765159529\n"
          ]
        }
      ]
    },
    {
      "cell_type": "markdown",
      "metadata": {
        "id": "ZA2cp-dIMgki"
      },
      "source": [
        "The neural networks regression model has an RSME less than 10% of the target mean hence the model can be used to predict the stock prices "
      ]
    },
    {
      "cell_type": "markdown",
      "metadata": {
        "id": "y5_spjYaHoyw"
      },
      "source": [
        "## <font color='#2F4F4F'>Step 7. Challenging our Solution</font>"
      ]
    },
    {
      "cell_type": "markdown",
      "metadata": {
        "id": "i5BnrlDxU5uG"
      },
      "source": [
        "#### a) Did we have the right question?\n",
        "Yes we have\n",
        "\n",
        "#### b) Did we have the right data?\n",
        "Yes we did\n",
        "\n",
        "#### c) What can be done to improve the solution?\n",
        "\n",
        "- Getting more training data\n",
        "- Increasing the timesteps\n",
        "- Adding some other indicators\n",
        "- Adding more LSTM layers\n",
        "- Adding more neurons in the LSTM layers"
      ]
    }
  ]
}